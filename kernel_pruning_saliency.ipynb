{
 "cells": [
  {
   "cell_type": "code",
   "execution_count": null,
   "id": "887d4960",
   "metadata": {},
   "outputs": [],
   "source": [
    "import torch  # Provides basic tensor operation and nn operation\n",
    "import load_dataset as dl  # create dataloader for selected dataset\n",
    "import load_model as lm  # facilitate loading and manipulating models\n",
    "import train_model as tm  # Facilitate training of the model\n",
    "import initialize_pruning as ip  # Initialize and provide basic parameter require for pruning\n",
    "import facilitate_pruning as fp  # Compute Pruning Value and many things\n",
    "import torch.nn.utils.prune as prune\n",
    "import os  # use to access the files\n",
    "from datetime import date"
   ]
  },
  {
   "cell_type": "code",
   "execution_count": null,
   "id": "405d1a11",
   "metadata": {},
   "outputs": [],
   "source": [
    "dataset_dir = '/home/pragnesh/project/Dataset/'; selected_dataset_dir = 'IntelIC'\n",
    "train_folder = 'train'; test_folder = 'test'\n",
    "\n",
    "# String Parameter for Model\n",
    "loadModel = False; is_transfer_learning = False\n",
    "\n",
    "program_name = 'vgg_net_kernel_pruning_3Aug'; model_dir = '/home/pragnesh/project/Model/'\n",
    "selectedModel = 'vgg16_IntelIc_Prune'\n",
    "load_path = f'{model_dir}{program_name}/{selected_dataset_dir}/{selectedModel}'\n"
   ]
  },
  {
   "cell_type": "code",
   "execution_count": null,
   "id": "a7bb988f",
   "metadata": {},
   "outputs": [],
   "source": [
    "# String parameter to Log Output\n",
    "logDir = '/home/pragnesh/project/Logs/'\n",
    "folder_path = f'{logDir}{program_name}/{selected_dataset_dir}/'\n",
    "logResultFile = f'{folder_path}result.log'\n",
    "outFile = f'{folder_path}lastResult.log'\n",
    "outLogFile = f'{folder_path}outLogFile.log'"
   ]
  },
  {
   "cell_type": "code",
   "execution_count": null,
   "id": "49199938",
   "metadata": {},
   "outputs": [],
   "source": [
    "if torch.cuda.is_available():\n",
    "    device1 = torch.device('cuda')\n",
    "else:\n",
    "    device1 = torch.device('cpu')\n"
   ]
  },
  {
   "cell_type": "code",
   "execution_count": null,
   "id": "a9099c27",
   "metadata": {},
   "outputs": [],
   "source": [
    "def ensure_dir(dir_path):\n",
    "    directory = os.path.dirname(dir_path)\n",
    "    if not os.path.exists(directory):\n",
    "        os.makedirs(directory)\n"
   ]
  },
  {
   "cell_type": "code",
   "execution_count": null,
   "id": "04b97764",
   "metadata": {},
   "outputs": [],
   "source": [
    "ensure_dir(f'{model_dir}{program_name}/')  # dir /home/pragnesh/project/Model/vgg_net_kernel_pruning_3Aug/\n",
    "ensure_dir(f'{model_dir}{program_name}/{selected_dataset_dir}/')  # dir ~/vgg_net_kernel_pruning_3Aug/IntelIc/\n",
    "ensure_dir(f'{logDir}{program_name}')  # dir /home/pragnesh/project/Logs/program_name/\n",
    "ensure_dir(f'{logDir}{program_name}/{selected_dataset_dir}/')  # dir /home/pragnesh/project/Logs/program_name/IntelIC"
   ]
  },
  {
   "cell_type": "code",
   "execution_count": null,
   "id": "03471ca4",
   "metadata": {},
   "outputs": [],
   "source": [
    "dl.set_image_size(224)\n",
    "dl.set_batch_size = 16\n",
    "dataLoaders = dl.data_loader(set_datasets_arg=dataset_dir, selected_dataset_arg=selected_dataset_dir,\n",
    "                             train_arg=train_folder, test_arg=test_folder)"
   ]
  },
  {
   "cell_type": "code",
   "execution_count": null,
   "id": "332be8a4",
   "metadata": {},
   "outputs": [],
   "source": [
    "if loadModel:  # Load the saved trained model\n",
    "    new_model = torch.load(load_path, map_location=torch.device(device1))\n",
    "else:  # Load the standard model from library\n",
    "    # if we don't have any saved trained model download pretrained model for transfer learning\n",
    "    new_model = lm.load_model(model_name='vgg16', number_of_class=6, pretrainval=is_transfer_learning,\n",
    "                              freeze_feature_arg=False, device_l=device1)"
   ]
  },
  {
   "cell_type": "code",
   "execution_count": null,
   "id": "29da1f16",
   "metadata": {},
   "outputs": [],
   "source": [
    "today = date.today()\n",
    "d1 = today.strftime(\"%d-%m\")\n",
    "print(f\"\\n...........OutLog For the {d1}................\")\n",
    "with open(outLogFile, 'a') as f:\n",
    "    f.write(f\"\\n\\n..........................OutLog For the {d1}......................\\n\\n\")\n",
    "f.close()"
   ]
  },
  {
   "cell_type": "code",
   "execution_count": null,
   "id": "c5331575",
   "metadata": {},
   "outputs": [],
   "source": [
    "block_list = []; feature_list = []; conv_layer_index = []; module = []\n",
    "prune_count = []; new_list = []; candidate_conv_layer = []\n",
    "layer_number = 0; st = 0; en = 0"
   ]
  },
  {
   "cell_type": "code",
   "execution_count": null,
   "id": "21df9b28",
   "metadata": {},
   "outputs": [],
   "source": [
    "def initialize_lists_for_pruning():\n",
    "    global block_list, feature_list, conv_layer_index, module, prune_count, new_list, candidate_conv_layer\n",
    "    global layer_number, st, en\n",
    "    block_list = ip.create_block_list(new_model)  # ip.getBlockList('vgg16')\n",
    "    feature_list = ip.create_feature_list(new_model)\n",
    "    conv_layer_index = ip.find_conv_index(new_model)\n",
    "    module = ip.make_list_conv_param(new_model)\n",
    "    prune_count = ip.get_prune_count(module=module, blocks=block_list, max_pr=.1)\n",
    "    new_list = []\n",
    "    layer_number = 0\n",
    "    st = 0\n",
    "    en = 0\n",
    "    candidate_conv_layer = []\n",
    "\n",
    "initialize_lists_for_pruning()"
   ]
  },
  {
   "cell_type": "code",
   "execution_count": null,
   "id": "443e5243",
   "metadata": {},
   "outputs": [],
   "source": [
    "def compute_conv_layer_saliency_kernel_pruning(module_candidate_convolution, block_list_l, block_id, k=1):\n",
    "    return module_candidate_convolution + block_list_l + block_id + k\n",
    "    # replace the demo code above\n",
    "    "
   ]
  },
  {
   "cell_type": "code",
   "execution_count": null,
   "id": "2aca7d18",
   "metadata": {
    "scrolled": true
   },
   "outputs": [],
   "source": [
    "class KernelPruningSaliency(prune.BasePruningMethod):\n",
    "    PRUNING_TYPE = 'unstructured'\n",
    "\n",
    "    def compute_mask(self, t, default_mask):\n",
    "        return 0"
   ]
  },
  {
   "cell_type": "code",
   "execution_count": null,
   "id": "93fbaf55",
   "metadata": {},
   "outputs": [],
   "source": [
    "def kernel_unstructured_saliency(kernel_module, name):\n",
    "    ChannelPruningSaliency.apply(kernel_module, name)\n",
    "    return kernel_module"
   ]
  },
  {
   "cell_type": "code",
   "execution_count": null,
   "id": "f16f5dee",
   "metadata": {},
   "outputs": [],
   "source": []
  }
 ],
 "metadata": {
  "kernelspec": {
   "display_name": "Python 3 (ipykernel)",
   "language": "python",
   "name": "python3"
  },
  "language_info": {
   "codemirror_mode": {
    "name": "ipython",
    "version": 3
   },
   "file_extension": ".py",
   "mimetype": "text/x-python",
   "name": "python",
   "nbconvert_exporter": "python",
   "pygments_lexer": "ipython3",
   "version": "3.9.12"
  }
 },
 "nbformat": 4,
 "nbformat_minor": 5
}
